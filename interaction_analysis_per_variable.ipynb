{
 "cells": [
  {
   "cell_type": "markdown",
   "id": "fifteen-arnold",
   "metadata": {},
   "source": [
    "# Data Preparation\n",
    "\n",
    "## Load data from sqlite3 in json"
   ]
  },
  {
   "cell_type": "code",
   "execution_count": 37,
   "id": "editorial-mother",
   "metadata": {},
   "outputs": [],
   "source": [
    "from utils.db.get_data_db import get_data_json\n",
    "from utils.information_retrieval import get_data_per_rq, get_means_from_traces\n",
    "from utils.models import get_times_inference, get_answers_rq1_inference, get_answers_rq2_3_inference, get_confidence_inference\n",
    "from utils.visualization import scatter_plot_of_num_len_boxes, pair_plot_response_interaction\n",
    "#conda install -c conda-forge adjusttext\n",
    "\n",
    "import numpy as np\n",
    "\n",
    "import warnings\n",
    "warnings.filterwarnings('ignore')\n",
    "\n",
    "db_file_path = 'data/study_01.db'\n",
    "data = get_data_json(db_file_path)\n",
    "#data"
   ]
  },
  {
   "cell_type": "markdown",
   "id": "indirect-pocket",
   "metadata": {},
   "source": [
    "## Data cleaning\n",
    "\n",
    "Keep only full registrations."
   ]
  },
  {
   "cell_type": "code",
   "execution_count": 2,
   "id": "funded-species",
   "metadata": {},
   "outputs": [],
   "source": [
    "data_processed = {}\n",
    "for p in data:\n",
    "    if data[p]['status'] == \"end_thanks\":\n",
    "        data_processed[p] = data[p]"
   ]
  },
  {
   "cell_type": "markdown",
   "id": "comparable-locator",
   "metadata": {},
   "source": [
    "## Get observed Response Times, Accuracy, and Confidence per Research Question (RQ) and group (IG and SG)\n",
    "\n",
    "<!-- There are 3 research questions in the study. -->\n",
    "\n",
    "RQ1: Does interaction help users to identify the existence or not of (strong) relations among probabilistic models’ parameters \n",
    "\n",
    "RQ2: Does interaction help users to identify the type of relation of model’s parameters and/or predictions \n",
    "\n",
    "RQ3: Does interaction help users to infer structural information about the model\n",
    "\n",
    "more accurately, faster and with more confidence?\n",
    "\n",
    "IG: Interactive Group\n",
    "\n",
    "SG: Static Group\n",
    "\n",
    "<!-- The study consisted of 3 problems. Each problem was modelled by a different probabilistic model. There were 3 sets of questions in each problem with every set corresponding to one of the research questions. -->\n",
    "\n",
    "<!-- The task ids per problem and RQ are following:\n",
    "\n",
    "**Problem 1: Temperature in Scotland**\n",
    "\n",
    "RQ1: t1\n",
    "\n",
    "RQ2: t2, t3, t4\n",
    "\n",
    "RQ3: t5\n",
    "\n",
    "**Problem 2: Random real-number generator**\n",
    "\n",
    "RQ1: t6\n",
    "\n",
    "RQ2: t7, t8, t9\n",
    "\n",
    "RQ3: t10, t11\n",
    "\n",
    "**Problem 3: Lorry drivers reaction times**\n",
    "\n",
    "RQ1: t12, t13\n",
    "\n",
    "RQ2: t14, t15, t16, t17\n",
    "\n",
    "RQ3: t18, t19 -->"
   ]
  },
  {
   "cell_type": "code",
   "execution_count": 3,
   "id": "formal-contest",
   "metadata": {},
   "outputs": [],
   "source": [
    "# task ids per RQ\n",
    "t_ids = {}\n",
    "t_ids['rq1'] = ['t1','t6','t12','t13']\n",
    "t_ids['rq2'] = ['t2','t3','t4','t7','t8','t9','t14','t15','t16','t17']\n",
    "t_ids['rq3'] = ['t5','t10','t11','t18','t19']\n",
    "\n",
    "times_i, times_s, corr_answers_i, corr_answers_s, conf_i, conf_s = get_data_per_rq(data_processed, t_ids, db_file_path)"
   ]
  },
  {
   "cell_type": "markdown",
   "id": "amateur-deficit",
   "metadata": {},
   "source": [
    "## Get observed Lengths and Numbers of Interactive Selection Boxes per Task and Variable"
   ]
  },
  {
   "cell_type": "code",
   "execution_count": 4,
   "id": "progressive-generator",
   "metadata": {},
   "outputs": [],
   "source": [
    "import json\n",
    "def get_num_of_boxes(data, p_tasks, p_vars, t_vars):\n",
    "    \"\"\"\n",
    "        p_tasks:     correspondence of tasks to problems {\"p1\":[t1,t2..],\"p2\":[]}\n",
    "        p_vars:      correspondence of variables to problems {\"p1\":[a,b..],\"p2\":[a,b..]}\n",
    "        \n",
    "        Returns:     participants number of selection boxes per task and variable e.g. t1_p1_a, t1_p1_b, ...\n",
    "    \"\"\"\n",
    "    num_boxes = {}\n",
    "    for p_id,p in data.items():\n",
    "        if p['mode'] == \"i\": \n",
    "            for t_id, t_response in p['t_answers'].items():\n",
    "                num_boxes_dict = {}\n",
    "                if t_id in p_tasks['p1']:\n",
    "                    prob = 'p1'\n",
    "                elif t_id in p_tasks['p2']:\n",
    "                    prob = 'p2'\n",
    "                else:\n",
    "                    prob = 'p3'\n",
    "                ## get νθμ_boxes of participant p_id for task t_id per variable\n",
    "                for i, sel in t_response['selections'].items():\n",
    "                    if sel[\"var_name\"] not in p_vars[prob]:\n",
    "                        continue\n",
    "                    if sel[\"var_name\"] not in num_boxes_dict:\n",
    "                        num_boxes_dict[sel[\"var_name\"]] = 1\n",
    "                    else:\n",
    "                        num_boxes_dict[sel[\"var_name\"]] = num_boxes_dict[sel[\"var_name\"]] + 1\n",
    "                ## add 0 for variables that participant didn't interact with\n",
    "                for var in t_vars[t_id]:\n",
    "                    if var not in num_boxes_dict:\n",
    "                        num_boxes_dict[var] = 0\n",
    "                ## add num_boxes of participant p_id for task t_id per variable\n",
    "                for var, nums in num_boxes_dict.items():\n",
    "                    t_id_var = t_id+\"_\"+prob+\"_\"+var\n",
    "                    if t_id_var not in num_boxes:\n",
    "                        num_boxes[t_id_var] = []\n",
    "                    num_boxes[t_id_var].append(nums)\n",
    "    return num_boxes\n",
    "\n",
    "def get_len_of_boxes(data, p_tasks, p_vars, p_inference):\n",
    "    \"\"\"\n",
    "        p_tasks:     correspondence of tasks to problems {\"p1\":[t1,t2..],\"p2\":[]}\n",
    "        p_vars:      correspondence of variables to problems {\"p1\":[a,b..],\"p2\":[a,b..]}\n",
    "        p_inference: correspondence of inference to problems {\"p1\":{},\"p2\":{}}\n",
    "        \n",
    "        Returns:     participants median length of selection box per task and variable e.g. t1_p1_a, t1_p1_b, ...\n",
    "    \"\"\"\n",
    "    ## estimate normalization factor of each variable in each problem\n",
    "    p_norm_factors = {}   \n",
    "    for p, inference in p_inference.items():\n",
    "        p_array_names = json.loads(p_inference[p]['header.json'])[\"inference_data\"][\"prior\"][\"array_names\"]\n",
    "        if p not in p_norm_factors:\n",
    "            p_norm_factors[p] = {}\n",
    "        for var in p_vars[p]:\n",
    "            prior_samples = np.squeeze(p_inference[p][p_array_names[var]])\n",
    "            if p == 'p3' and len(prior_samples.shape)>1:\n",
    "                prior_samples = prior_samples[:,2]\n",
    "            p_norm_factors[p][var] =  prior_samples.max()-prior_samples.min()\n",
    "#             hdi = az.hdi(prior_samples, hdi_prob=.94)\n",
    "#             p_norm_factors[p][var] =  hdi[1] - hdi[0]\n",
    "    ##\n",
    "    len_boxes = {}\n",
    "    for p_id,p in data.items():\n",
    "        if p['mode'] == \"i\":        \n",
    "            for t_id, t_response in p['t_answers'].items():\n",
    "                len_boxes_dict = {}\n",
    "                if t_id in p_tasks['p1']:\n",
    "                    prob = 'p1'\n",
    "                elif t_id in p_tasks['p2']:\n",
    "                    prob = 'p2'\n",
    "                else:\n",
    "                    prob = 'p3'\n",
    "                ## get len_boxes of participant p_id for task t_id per variable\n",
    "                for i, sel in t_response['selections'].items():\n",
    "                    if sel[\"var_name\"] not in p_vars[prob]:\n",
    "                        continue\n",
    "                    if sel[\"var_name\"] not in len_boxes_dict:\n",
    "                        len_boxes_dict[sel[\"var_name\"]] = []\n",
    "                    len_boxes_dict[sel[\"var_name\"]].append((sel['xmax']-sel['xmin'])/p_norm_factors[prob][sel[\"var_name\"]] )\n",
    "                ## aggregate len_boxes of participant p_id for task t_id per variable\n",
    "                for var, lengths in len_boxes_dict.items():\n",
    "                    t_id_var = t_id+\"_\"+prob+\"_\"+var\n",
    "                    if t_id_var not in len_boxes:\n",
    "                        len_boxes[t_id_var] = []\n",
    "                    len_boxes[t_id_var].append(np.median(lengths))\n",
    "#                     if len_boxes[t_id_var][-1]>1:\n",
    "#                         print(p_id,t_id,var,lengths)\n",
    "    return len_boxes"
   ]
  },
  {
   "cell_type": "code",
   "execution_count": 5,
   "id": "egyptian-texas",
   "metadata": {},
   "outputs": [],
   "source": [
    "p_tasks = {\"p1\":['t1','t2',\"t3\",\"t4\",'t5'],\"p2\":['t6','t7',\"t8\",\"t9\",'t10','t11'],\"p3\":['t12','t13',\"t14\",\"t15\",'t16','t17','t18','t19']}\n",
    "p_vars = {\"p1\":['a','b','c'],\"p2\":['a','b','c'],\"p3\":['a','b','c','d']}\n",
    "p_inference = {\"p1\":np.load('data/min_temperature.npz') ,\"p2\":np.load('data/transformation.npz'),\"p3\":np.load('data/reaction_times_hierarchical.npz')}\n",
    "t_vars = {'t1':['a','b','c'],'t2':['a'],'t3':['b'],'t4':['c'],'t5':['a','b','c'],'t6':['a','b','c'],'t7':['a'],'t8':['b'],'t9':['c'],'t10':['a','b','c'],'t11':['a','b','c'],'t12':['a','b','c','d'],'t13':['a','b','c','d'],'t14':['a'],'t15':['b'],'t16':['c'],'t17':['d'],'t18':['a','c'],'t19':['a','b']}\n",
    "\n",
    "num_of_boxes = get_num_of_boxes(data_processed, p_tasks, p_vars, t_vars) \n",
    "len_of_boxes = get_len_of_boxes(data_processed, p_tasks, p_vars, p_inference)"
   ]
  },
  {
   "cell_type": "markdown",
   "id": "tracked-tackle",
   "metadata": {},
   "source": [
    "# Bayesian Analysis of Collected Data"
   ]
  },
  {
   "cell_type": "markdown",
   "id": "sustained-interface",
   "metadata": {},
   "source": [
    "## Inference for RQ1"
   ]
  },
  {
   "cell_type": "markdown",
   "id": "careful-allen",
   "metadata": {},
   "source": [
    "### Response Times"
   ]
  },
  {
   "cell_type": "code",
   "execution_count": 6,
   "id": "light-nancy",
   "metadata": {},
   "outputs": [
    {
     "name": "stderr",
     "output_type": "stream",
     "text": [
      "Auto-assigning NUTS sampler...\n",
      "Initializing NUTS using jitter+adapt_diag...\n",
      "Multiprocess sampling (4 chains in 4 jobs)\n",
      "NUTS: [groups_std, groups_mean, groupi_std, groupi_mean]\n"
     ]
    },
    {
     "name": "stdout",
     "output_type": "stream",
     "text": [
      "█\r"
     ]
    },
    {
     "name": "stderr",
     "output_type": "stream",
     "text": [
      "Sampling 4 chains for 1_000 tune and 2_000 draw iterations (4_000 + 8_000 draws total) took 44 seconds.\n"
     ]
    },
    {
     "name": "stdout",
     "output_type": "stream",
     "text": [
      "█\r"
     ]
    }
   ],
   "source": [
    "# interactive and static response times\n",
    "tim_i = [j for _,value in times_i['rq1'].items() for j in value]\n",
    "tim_s = [j for _,value in  times_s['rq1'].items() for j in value]\n",
    "#indices\n",
    "t_indices_i = [t_ids['rq1'].index(t) \n",
    "               for t,value in times_i['rq1'].items() \n",
    "               for j in value]\n",
    "t_indices_s = [t_ids['rq1'].index(t) \n",
    "               for t,value in times_s['rq1'].items() \n",
    "               for j in value]\n",
    "trace_rt_rq1, pp_rt_rq1 = get_times_inference(tim_i, \n",
    "                                              tim_s, \n",
    "                                              t_indices_i, \n",
    "                                              t_indices_s, \n",
    "                                              t_ids['rq1'])"
   ]
  },
  {
   "cell_type": "markdown",
   "id": "unlimited-fetish",
   "metadata": {},
   "source": [
    "### Accuracy\n",
    "We model the probability of making a mistake in identifying the existence or not of a relation."
   ]
  },
  {
   "cell_type": "code",
   "execution_count": 7,
   "id": "thorough-newspaper",
   "metadata": {},
   "outputs": [
    {
     "name": "stderr",
     "output_type": "stream",
     "text": [
      "Auto-assigning NUTS sampler...\n",
      "Initializing NUTS using jitter+adapt_diag...\n",
      "Multiprocess sampling (4 chains in 4 jobs)\n",
      "NUTS: [thetas, thetai]\n"
     ]
    },
    {
     "name": "stdout",
     "output_type": "stream",
     "text": [
      "█\r"
     ]
    },
    {
     "name": "stderr",
     "output_type": "stream",
     "text": [
      "Sampling 4 chains for 1_000 tune and 2_000 draw iterations (4_000 + 8_000 draws total) took 43 seconds.\n"
     ]
    },
    {
     "name": "stdout",
     "output_type": "stream",
     "text": [
      "█\r"
     ]
    }
   ],
   "source": [
    "# number of trials (available options) per task in rq1\n",
    "n_sizes_per_task = {'t1':3,'t6':3,'t12':4,'t13':3}\n",
    "n_i = [n_sizes_per_task[t] \n",
    "       for t,value in corr_answers_i['rq1'].items() \n",
    "       for j in value]\n",
    "n_s = [n_sizes_per_task[t] \n",
    "       for t,value in corr_answers_s['rq1'].items() \n",
    "       for j in value]\n",
    "# interactive and static answers\n",
    "ans_i = [j for _,value in corr_answers_i['rq1'].items() \n",
    "         for j in value]\n",
    "ans_s = [j for _,value in corr_answers_s['rq1'].items() \n",
    "         for j in value]\n",
    "#indices \n",
    "t_indices_i = [t_ids['rq1'].index(t) \n",
    "               for t,value in corr_answers_i['rq1'].items() \n",
    "               for j in value]\n",
    "t_indices_s = [t_ids['rq1'].index(t) \n",
    "               for t,value in corr_answers_s['rq1'].items() \n",
    "               for j in value]\n",
    "trace_acc_rq1, pp_acc_rq1 = get_answers_rq1_inference(ans_i, \n",
    "                                                      ans_s, n_i, n_s, \n",
    "                                                      t_indices_i, \n",
    "                                                      t_indices_s, \n",
    "                                                      t_ids['rq1'])"
   ]
  },
  {
   "cell_type": "markdown",
   "id": "binary-effects",
   "metadata": {},
   "source": [
    "### Confidence"
   ]
  },
  {
   "cell_type": "code",
   "execution_count": 8,
   "id": "social-camel",
   "metadata": {},
   "outputs": [
    {
     "name": "stderr",
     "output_type": "stream",
     "text": [
      "Auto-assigning NUTS sampler...\n",
      "Initializing NUTS using jitter+adapt_diag...\n",
      "Multiprocess sampling (4 chains in 4 jobs)\n",
      "NUTS: [groups_std, groups_mean, groupi_std, groupi_mean]\n"
     ]
    },
    {
     "name": "stdout",
     "output_type": "stream",
     "text": [
      "█\r"
     ]
    },
    {
     "name": "stderr",
     "output_type": "stream",
     "text": [
      "Sampling 4 chains for 1_000 tune and 2_000 draw iterations (4_000 + 8_000 draws total) took 43 seconds.\n"
     ]
    },
    {
     "name": "stdout",
     "output_type": "stream",
     "text": [
      "█\r"
     ]
    }
   ],
   "source": [
    "# interactive and static response times\n",
    "c_i = [j for _,value in conf_i['rq1'].items() \n",
    "       for j in value]\n",
    "c_s = [j for _,value in conf_s['rq1'].items() \n",
    "       for j in value]\n",
    "#indices\n",
    "t_indices_i = [t_ids['rq1'].index(t) \n",
    "               for t,value in conf_i['rq1'].items() \n",
    "               for j in value]\n",
    "t_indices_s = [t_ids['rq1'].index(t) \n",
    "               for t,value in conf_s['rq1'].items() \n",
    "               for j in value]\n",
    "\n",
    "trace_conf_rq1, pp_conf_rq1 = get_confidence_inference(c_i, \n",
    "                                                       c_s, \n",
    "                                                       t_indices_i, \n",
    "                                                       t_indices_s, \n",
    "                                                       t_ids['rq1'])"
   ]
  },
  {
   "cell_type": "markdown",
   "id": "parliamentary-tongue",
   "metadata": {},
   "source": [
    "## Inference for RQ2"
   ]
  },
  {
   "cell_type": "markdown",
   "id": "intended-comedy",
   "metadata": {},
   "source": [
    "### Response Times"
   ]
  },
  {
   "cell_type": "code",
   "execution_count": 9,
   "id": "greek-dominant",
   "metadata": {},
   "outputs": [
    {
     "name": "stderr",
     "output_type": "stream",
     "text": [
      "Auto-assigning NUTS sampler...\n",
      "Initializing NUTS using jitter+adapt_diag...\n",
      "Multiprocess sampling (4 chains in 4 jobs)\n",
      "NUTS: [groups_std, groups_mean, groupi_std, groupi_mean]\n"
     ]
    },
    {
     "name": "stdout",
     "output_type": "stream",
     "text": [
      "█\r"
     ]
    },
    {
     "name": "stderr",
     "output_type": "stream",
     "text": [
      "Sampling 4 chains for 1_000 tune and 2_000 draw iterations (4_000 + 8_000 draws total) took 45 seconds.\n"
     ]
    },
    {
     "name": "stdout",
     "output_type": "stream",
     "text": [
      "█\r"
     ]
    }
   ],
   "source": [
    "# interactive and static response times\n",
    "tim_i = [j for _,value in times_i['rq2'].items() \n",
    "         for j in value]\n",
    "tim_s = [j for _,value in  times_s['rq2'].items() \n",
    "         for j in value]\n",
    "#indices\n",
    "t_indices_i = [t_ids['rq2'].index(t) \n",
    "               for t,value in times_i['rq2'].items() \n",
    "               for j in value]\n",
    "t_indices_s = [t_ids['rq2'].index(t) \n",
    "               for t,value in times_s['rq2'].items() \n",
    "               for j in value]\n",
    "trace_rt_rq2, pp_rt_rq2 = get_times_inference(tim_i, \n",
    "                                              tim_s, \n",
    "                                              t_indices_i, \n",
    "                                              t_indices_s, \n",
    "                                              t_ids['rq2'])"
   ]
  },
  {
   "cell_type": "markdown",
   "id": "exempt-heading",
   "metadata": {},
   "source": [
    "### Accuracy"
   ]
  },
  {
   "cell_type": "code",
   "execution_count": 10,
   "id": "overall-statement",
   "metadata": {},
   "outputs": [
    {
     "name": "stderr",
     "output_type": "stream",
     "text": [
      "Auto-assigning NUTS sampler...\n",
      "Initializing NUTS using jitter+adapt_diag...\n",
      "Multiprocess sampling (4 chains in 4 jobs)\n",
      "NUTS: [thetas, thetai]\n"
     ]
    },
    {
     "name": "stdout",
     "output_type": "stream",
     "text": [
      "█\r"
     ]
    },
    {
     "name": "stderr",
     "output_type": "stream",
     "text": [
      "Sampling 4 chains for 1_000 tune and 2_000 draw iterations (4_000 + 8_000 draws total) took 43 seconds.\n"
     ]
    },
    {
     "name": "stdout",
     "output_type": "stream",
     "text": [
      "█\r"
     ]
    }
   ],
   "source": [
    "# interactive and static answers\n",
    "ans_i = [j for _,value in corr_answers_i['rq2'].items() \n",
    "         for j in value]\n",
    "ans_s = [j for _,value in corr_answers_s['rq2'].items() \n",
    "         for j in value]\n",
    "#indices \n",
    "t_indices_i = [t_ids['rq2'].index(t) \n",
    "               for t,value in corr_answers_i['rq2'].items() \n",
    "               for j in value]\n",
    "t_indices_s = [t_ids['rq2'].index(t) \n",
    "               for t,value in corr_answers_s['rq2'].items() \n",
    "               for j in value]\n",
    "\n",
    "trace_acc_rq2, pp_acc_rq2 = get_answers_rq2_3_inference(ans_i, \n",
    "                                                        ans_s, \n",
    "                                                        t_indices_i, \n",
    "                                                        t_indices_s, \n",
    "                                                        t_ids['rq2'])"
   ]
  },
  {
   "cell_type": "markdown",
   "id": "coastal-appliance",
   "metadata": {},
   "source": [
    "### Confidence"
   ]
  },
  {
   "cell_type": "code",
   "execution_count": 11,
   "id": "forbidden-journalism",
   "metadata": {},
   "outputs": [
    {
     "name": "stderr",
     "output_type": "stream",
     "text": [
      "Auto-assigning NUTS sampler...\n",
      "Initializing NUTS using jitter+adapt_diag...\n",
      "Multiprocess sampling (4 chains in 4 jobs)\n",
      "NUTS: [groups_std, groups_mean, groupi_std, groupi_mean]\n"
     ]
    },
    {
     "name": "stdout",
     "output_type": "stream",
     "text": [
      "█\r"
     ]
    },
    {
     "name": "stderr",
     "output_type": "stream",
     "text": [
      "Sampling 4 chains for 1_000 tune and 2_000 draw iterations (4_000 + 8_000 draws total) took 47 seconds.\n"
     ]
    },
    {
     "name": "stdout",
     "output_type": "stream",
     "text": [
      "█\r"
     ]
    }
   ],
   "source": [
    "# interactive and static response times\n",
    "c_i = [j for _,value in conf_i['rq2'].items() \n",
    "       for j in value]\n",
    "c_s = [j for _,value in conf_s['rq2'].items() \n",
    "       for j in value]\n",
    "#indexes\n",
    "t_indices_i = [t_ids['rq2'].index(t) \n",
    "               for t,value in conf_i['rq2'].items() \n",
    "               for j in value]\n",
    "t_indices_s = [t_ids['rq2'].index(t) \n",
    "               for t,value in conf_s['rq2'].items() \n",
    "               for j in value]\n",
    "trace_conf_rq2, pp_conf_rq2 = get_confidence_inference(c_i, \n",
    "                                                       c_s, \n",
    "                                                       t_indices_i, \n",
    "                                                       t_indices_s, \n",
    "                                                       t_ids['rq2'])"
   ]
  },
  {
   "cell_type": "markdown",
   "id": "coral-fifth",
   "metadata": {},
   "source": [
    "## Inference for RQ3"
   ]
  },
  {
   "cell_type": "markdown",
   "id": "common-temple",
   "metadata": {},
   "source": [
    "### Response Times"
   ]
  },
  {
   "cell_type": "code",
   "execution_count": 12,
   "id": "colored-scale",
   "metadata": {},
   "outputs": [
    {
     "name": "stderr",
     "output_type": "stream",
     "text": [
      "Auto-assigning NUTS sampler...\n",
      "Initializing NUTS using jitter+adapt_diag...\n",
      "Multiprocess sampling (4 chains in 4 jobs)\n",
      "NUTS: [groups_std, groups_mean, groupi_std, groupi_mean]\n"
     ]
    },
    {
     "name": "stdout",
     "output_type": "stream",
     "text": [
      "█\r"
     ]
    },
    {
     "name": "stderr",
     "output_type": "stream",
     "text": [
      "Sampling 4 chains for 1_000 tune and 2_000 draw iterations (4_000 + 8_000 draws total) took 45 seconds.\n"
     ]
    },
    {
     "name": "stdout",
     "output_type": "stream",
     "text": [
      "█\r"
     ]
    }
   ],
   "source": [
    "# interactive and static response times\n",
    "tim_i = [j for _,value in times_i['rq3'].items() \n",
    "         for j in value]\n",
    "tim_s = [j for _,value in  times_s['rq3'].items() \n",
    "         for j in value]\n",
    "#indices\n",
    "t_indices_i = [t_ids['rq3'].index(t) \n",
    "               for t,value in times_i['rq3'].items() \n",
    "               for j in value]\n",
    "t_indices_s = [t_ids['rq3'].index(t) \n",
    "               for t,value in times_s['rq3'].items() \n",
    "               for j in value]\n",
    "trace_rt_rq3, pp_rt_rq3 = get_times_inference(tim_i, \n",
    "                                              tim_s, \n",
    "                                              t_indices_i, \n",
    "                                              t_indices_s, \n",
    "                                              t_ids['rq3'])"
   ]
  },
  {
   "cell_type": "markdown",
   "id": "apart-decimal",
   "metadata": {},
   "source": [
    "### Accuracy"
   ]
  },
  {
   "cell_type": "code",
   "execution_count": 13,
   "id": "affecting-creature",
   "metadata": {},
   "outputs": [
    {
     "name": "stderr",
     "output_type": "stream",
     "text": [
      "Auto-assigning NUTS sampler...\n",
      "Initializing NUTS using jitter+adapt_diag...\n",
      "Multiprocess sampling (4 chains in 4 jobs)\n",
      "NUTS: [thetas, thetai]\n"
     ]
    },
    {
     "name": "stdout",
     "output_type": "stream",
     "text": [
      "█\r"
     ]
    },
    {
     "name": "stderr",
     "output_type": "stream",
     "text": [
      "Sampling 4 chains for 1_000 tune and 2_000 draw iterations (4_000 + 8_000 draws total) took 43 seconds.\n"
     ]
    },
    {
     "name": "stdout",
     "output_type": "stream",
     "text": [
      "█\r"
     ]
    }
   ],
   "source": [
    "# interactive and static answers\n",
    "ans_i = [j for _,value in corr_answers_i['rq3'].items() \n",
    "         for j in value]\n",
    "ans_s = [j for _,value in corr_answers_s['rq3'].items() \n",
    "         for j in value]\n",
    "#indices \n",
    "t_indices_i = [t_ids['rq3'].index(t) \n",
    "               for t,value in corr_answers_i['rq3'].items() \n",
    "               for j in value]\n",
    "t_indices_s = [t_ids['rq3'].index(t) \n",
    "               for t,value in corr_answers_s['rq3'].items() \n",
    "               for j in value]\n",
    "\n",
    "trace_acc_rq3, pp_acc_rq3 = get_answers_rq2_3_inference(ans_i, \n",
    "                                                        ans_s, \n",
    "                                                        t_indices_i, \n",
    "                                                        t_indices_s, \n",
    "                                                        t_ids['rq3'])"
   ]
  },
  {
   "cell_type": "markdown",
   "id": "automatic-publication",
   "metadata": {},
   "source": [
    "### Confidence"
   ]
  },
  {
   "cell_type": "code",
   "execution_count": 14,
   "id": "finnish-coffee",
   "metadata": {},
   "outputs": [
    {
     "name": "stderr",
     "output_type": "stream",
     "text": [
      "Auto-assigning NUTS sampler...\n",
      "Initializing NUTS using jitter+adapt_diag...\n",
      "Multiprocess sampling (4 chains in 4 jobs)\n",
      "NUTS: [groups_std, groups_mean, groupi_std, groupi_mean]\n"
     ]
    },
    {
     "name": "stdout",
     "output_type": "stream",
     "text": [
      "█\r"
     ]
    },
    {
     "name": "stderr",
     "output_type": "stream",
     "text": [
      "Sampling 4 chains for 1_000 tune and 2_000 draw iterations (4_000 + 8_000 draws total) took 44 seconds.\n"
     ]
    },
    {
     "name": "stdout",
     "output_type": "stream",
     "text": [
      "█\r"
     ]
    }
   ],
   "source": [
    "# interactive and static response times\n",
    "c_i = [j for _,value in conf_i['rq3'].items() \n",
    "       for j in value]\n",
    "c_s = [j for _,value in conf_s['rq3'].items() \n",
    "       for j in value]\n",
    "#indexes\n",
    "t_indices_i = [t_ids['rq3'].index(t) \n",
    "               for t,value in conf_i['rq3'].items() \n",
    "               for j in value]\n",
    "t_indices_s = [t_ids['rq3'].index(t) \n",
    "               for t,value in conf_s['rq3'].items() \n",
    "               for j in value]\n",
    "trace_conf_rq3, pp_conf_rq3 = get_confidence_inference(c_i, \n",
    "                                                       c_s, \n",
    "                                                       t_indices_i, \n",
    "                                                       t_indices_s, \n",
    "                                                       t_ids['rq3'])"
   ]
  },
  {
   "cell_type": "markdown",
   "id": "tough-journalist",
   "metadata": {},
   "source": [
    "## Inference for Lengths of Interactive Selection Boxes"
   ]
  },
  {
   "cell_type": "code",
   "execution_count": 15,
   "id": "advance-hostel",
   "metadata": {},
   "outputs": [],
   "source": [
    "import pymc3 as pm\n",
    "def get_len_boxes_inference_h(len_boxes, task_var_indices, task_var_ids, var_names, t_var_indices):\n",
    "    \"\"\"\n",
    "        len_boxes:        List of median length of selectin box for each variable in each task\n",
    "        task_var_ids:     List of task variables ids e.g. t1_p1_a, t1_p1_b ....\n",
    "        var_names:        List of problems variables names e.g. p1_a, p1_b, ...\n",
    "        task_var_indices: List of indices to problems variables names for each task variable\n",
    "        t_var_indices:    List of indices to task variables for each observation in len_box\n",
    "    \"\"\"    \n",
    "    coords = {\"var\":var_names,\"task_var\": task_var_ids}\n",
    "    with pm.Model(coords=coords) as model:\n",
    "        #hyper priors for vars\n",
    "        mu_mu = pm.Beta(\"mu_mu\", alpha = 1, beta = 1, dims='var')\n",
    "        mu_kappa= pm.Gamma(\"mu_kappa\", alpha = 100, beta = 1, dims='var')\n",
    "        kappa_alpha = pm.Gamma(\"kappa_alpha\", alpha = 100, beta = 1, dims='var')        \n",
    "        kappa_beta = pm.Gamma(\"kappa_beta\", alpha = 100, beta = 1, dims='var')\n",
    "\n",
    "        #priors\n",
    "        mu = pm.Beta(\"mu\", alpha = mu_mu[task_var_indices]*mu_kappa[task_var_indices], beta = (1-mu_mu[task_var_indices])*mu_kappa[task_var_indices], dims='task_var')\n",
    "        kappa = pm.Gamma(\"kappa\", alpha = kappa_alpha[task_var_indices], beta = kappa_beta[task_var_indices], dims='task_var')\n",
    "\n",
    "        #likelihood                \n",
    "        len_box = pm.Beta(\"len_box\", alpha = mu[t_var_indices]*kappa[t_var_indices], beta = kappa[t_var_indices]*(1-mu[t_var_indices]), observed = len_boxes)#length of selection box\n",
    "\n",
    "        #inference\n",
    "        trace = pm.sample(2000,cores=1)\n",
    "        posterior_predictive = pm.sample_posterior_predictive(trace, samples=2000)\n",
    "    return trace, posterior_predictive\n",
    "\n",
    "def get_num_boxes_inference_h(num_boxes, task_var_indices, task_var_ids, var_names, t_var_indices):\n",
    "    \"\"\"\n",
    "        num_boxes:        List of number of selectin boxes for each variable in each task\n",
    "        task_var_ids:     List of task variables ids e.g. t1_p1_a, t1_p1_b ....\n",
    "        var_names:        List of problems variables names e.g. p1_a, p1_b, ...\n",
    "        task_var_indices: List of indices to problems variables names for each task variable\n",
    "        t_var_indices:    List of indices to task variables for each observation in len_box\n",
    "    \"\"\"    \n",
    "    coords = {\"var\":var_names,\"task_var\": task_var_ids}\n",
    "    with pm.Model(coords=coords) as model:\n",
    "        #hyper priors for vars\n",
    "        mu_alpha = pm.Gamma(\"mu_alpha\", alpha = 2, beta = 10, dims='var')\n",
    "        mu_beta = pm.Gamma(\"mu_beta\", alpha = 1, beta = 5, dims='var')    \n",
    "\n",
    "        #priors\n",
    "        mu = pm.Gamma(\"mu\", alpha = mu_alpha[task_var_indices], beta = mu_beta[task_var_indices], dims='task_var')\n",
    "\n",
    "        #likelihood                \n",
    "        num_box = pm.Poisson(\"num_box\", mu = mu[t_var_indices], observed = num_boxes)#number of selection boxes\n",
    "\n",
    "        #inference\n",
    "        trace = pm.sample(2000)\n",
    "        posterior_predictive = pm.sample_posterior_predictive(trace, samples=2000)\n",
    "    return trace, posterior_predictive\n",
    "\n",
    "def get_len_boxes_inference_nh(len_boxes, task_var_ids, t_var_indices):\n",
    "    \"\"\"\n",
    "        len_boxes:        List of median length of selectin box for each variable in each task\n",
    "        task_var_ids:     List of task variables ids e.g. t1_p1_a, t1_p1_b ....\n",
    "        var_names:        List of problems variables names e.g. p1_a, p1_b, ...\n",
    "        task_var_indices: List of indices to problems variables names for each task variable\n",
    "        t_var_indices:    List of indices to task variables for each observation in len_box\n",
    "    \"\"\"    \n",
    "    coords = {\"task_var\": task_var_ids}\n",
    "    with pm.Model(coords=coords) as model:\n",
    "        #priors\n",
    "        mu = pm.Beta(\"mu\", alpha = 1, beta = 1, dims='task_var')\n",
    "        kappa = pm.Gamma(\"kappa\", alpha = 100, beta = 1, dims='task_var')\n",
    "\n",
    "        #likelihood                \n",
    "        len_box = pm.Beta(\"len_box\", alpha = mu[t_var_indices]*kappa[t_var_indices], beta = kappa[t_var_indices]*(1-mu[t_var_indices]), observed = len_boxes)#length of selection box\n",
    "\n",
    "        #inference\n",
    "        trace = pm.sample(2000,cores=1)\n",
    "        posterior_predictive = pm.sample_posterior_predictive(trace, samples=2000)\n",
    "    return trace, posterior_predictive\n",
    "\n",
    "def get_num_boxes_inference_nh(num_boxes, task_var_ids,  t_var_indices):\n",
    "    \"\"\"\n",
    "        num_boxes:        List of number of selectin boxes for each variable in each task\n",
    "        task_var_ids:     List of task variables ids e.g. t1_p1_a, t1_p1_b ....\n",
    "        var_names:        List of problems variables names e.g. p1_a, p1_b, ...\n",
    "        task_var_indices: List of indices to problems variables names for each task variable\n",
    "        t_var_indices:    List of indices to task variables for each observation in len_box\n",
    "    \"\"\"    \n",
    "    coords = {\"task_var\": task_var_ids}\n",
    "    with pm.Model(coords=coords) as model:\n",
    "        #priors\n",
    "        mu = pm.Gamma(\"mu\", alpha = 2, beta = 10, dims='task_var')\n",
    "\n",
    "        #likelihood                \n",
    "        num_box = pm.Poisson(\"num_box\", mu = mu[t_var_indices], observed = num_boxes)#number of selection boxes\n",
    "\n",
    "        #inference\n",
    "        trace = pm.sample(2000)\n",
    "        posterior_predictive = pm.sample_posterior_predictive(trace, samples=2000)\n",
    "    return trace, posterior_predictive"
   ]
  },
  {
   "cell_type": "code",
   "execution_count": 16,
   "id": "junior-biotechnology",
   "metadata": {},
   "outputs": [
    {
     "name": "stderr",
     "output_type": "stream",
     "text": [
      "Auto-assigning NUTS sampler...\n",
      "Initializing NUTS using jitter+adapt_diag...\n",
      "Sequential sampling (2 chains in 1 job)\n",
      "NUTS: [kappa, mu, kappa_beta, kappa_alpha, mu_kappa, mu_mu]\n"
     ]
    },
    {
     "name": "stdout",
     "output_type": "stream",
     "text": [
      "█\r"
     ]
    },
    {
     "name": "stderr",
     "output_type": "stream",
     "text": [
      "Sampling 2 chains for 1_000 tune and 2_000 draw iterations (2_000 + 4_000 draws total) took 63 seconds.\n"
     ]
    },
    {
     "name": "stdout",
     "output_type": "stream",
     "text": [
      "█\r"
     ]
    },
    {
     "name": "stderr",
     "output_type": "stream",
     "text": [
      "Auto-assigning NUTS sampler...\n",
      "Initializing NUTS using jitter+adapt_diag...\n",
      "Sequential sampling (2 chains in 1 job)\n",
      "NUTS: [kappa, mu]\n"
     ]
    },
    {
     "name": "stdout",
     "output_type": "stream",
     "text": [
      "█\r"
     ]
    },
    {
     "name": "stderr",
     "output_type": "stream",
     "text": [
      "Sampling 2 chains for 1_000 tune and 2_000 draw iterations (2_000 + 4_000 draws total) took 13 seconds.\n"
     ]
    },
    {
     "name": "stdout",
     "output_type": "stream",
     "text": [
      "█\r"
     ]
    }
   ],
   "source": [
    "## observed lengths of boxes\n",
    "len_boxes = [j for _,value in len_of_boxes.items() \n",
    "         for j in value]\n",
    "## dims \n",
    "task_var_ids = [\"t1_p1_a\", \"t1_p1_b\", \"t1_p1_c\", \"t2_p1_a\", \"t3_p1_b\", \"t4_p1_c\", \"t5_p1_a\", \"t5_p1_b\", \"t5_p1_c\",\n",
    "               \"t6_p2_a\", \"t6_p2_b\", \"t6_p2_c\", \"t7_p2_a\", \"t8_p2_b\", \"t9_p2_c\", \"t10_p2_a\", \"t10_p2_b\", \"t10_p2_c\", \"t11_p2_a\", \"t11_p2_b\", \"t11_p2_c\",\n",
    "               \"t12_p3_a\", \"t12_p3_b\", \"t12_p3_c\", \"t12_p3_d\", \"t13_p3_a\", \"t13_p3_b\", \"t13_p3_c\", \"t13_p3_d\", \"t14_p3_a\", \"t15_p3_b\", \"t16_p3_c\", \"t17_p3_d\", \"t18_p3_a\", \"t18_p3_c\", \"t19_p3_a\", \"t19_p3_b\"]\n",
    "var_names = [\"p1_a\", \"p1_b\", \"p1_c\", \"p2_a\", \"p2_b\", \"p2_c\", \"p3_a\", \"p3_b\", \"p3_c\", \"p3_d\"]\n",
    "## indices \n",
    "task_var_indices = [0,1,2,0,1,2,0,1,2,3,4,5,3,4,5,3,4,5,3,4,5,6,7,8,9,6,7,8,9,6,7,8,9,6,8,6,7]\n",
    "t_var_indices = [task_var_ids.index(t_var) \n",
    "               for t_var,value in len_of_boxes.items() \n",
    "               for j in value]\n",
    "## inference\n",
    "trace_len_boxes_h, pp_len_boxes_h = get_len_boxes_inference_h(len_boxes, \n",
    "                                                    task_var_indices, \n",
    "                                                    task_var_ids, \n",
    "                                                    var_names,\n",
    "                                                    t_var_indices)\n",
    "\n",
    "##\n",
    "trace_len_boxes_nh, pp_len_boxes_nh = get_len_boxes_inference_nh(len_boxes, task_var_ids, t_var_indices)"
   ]
  },
  {
   "cell_type": "markdown",
   "id": "trying-clarity",
   "metadata": {},
   "source": [
    "## Inference for Number of Interactive Selection Boxes"
   ]
  },
  {
   "cell_type": "code",
   "execution_count": 17,
   "id": "pharmaceutical-services",
   "metadata": {},
   "outputs": [
    {
     "name": "stderr",
     "output_type": "stream",
     "text": [
      "Auto-assigning NUTS sampler...\n",
      "Initializing NUTS using jitter+adapt_diag...\n",
      "Multiprocess sampling (4 chains in 4 jobs)\n",
      "NUTS: [mu, mu_beta, mu_alpha]\n"
     ]
    },
    {
     "name": "stdout",
     "output_type": "stream",
     "text": [
      "█\r"
     ]
    },
    {
     "name": "stderr",
     "output_type": "stream",
     "text": [
      "Sampling 4 chains for 1_000 tune and 2_000 draw iterations (4_000 + 8_000 draws total) took 46 seconds.\n"
     ]
    },
    {
     "name": "stdout",
     "output_type": "stream",
     "text": [
      "█\r"
     ]
    },
    {
     "name": "stderr",
     "output_type": "stream",
     "text": [
      "Auto-assigning NUTS sampler...\n",
      "Initializing NUTS using jitter+adapt_diag...\n",
      "Multiprocess sampling (4 chains in 4 jobs)\n",
      "NUTS: [mu]\n"
     ]
    },
    {
     "name": "stdout",
     "output_type": "stream",
     "text": [
      "█\r"
     ]
    },
    {
     "name": "stderr",
     "output_type": "stream",
     "text": [
      "Sampling 4 chains for 1_000 tune and 2_000 draw iterations (4_000 + 8_000 draws total) took 43 seconds.\n"
     ]
    },
    {
     "name": "stdout",
     "output_type": "stream",
     "text": [
      "█\r"
     ]
    }
   ],
   "source": [
    "## observed numbers of boxes\n",
    "num_boxes = [j for _,value in num_of_boxes.items() \n",
    "         for j in value]\n",
    "t_var_indices = [task_var_ids.index(t_var) \n",
    "               for t_var,value in num_of_boxes.items() \n",
    "               for j in value]\n",
    "## inference\n",
    "trace_num_boxes_h, pp_num_boxes_h = get_num_boxes_inference_h(num_boxes, \n",
    "                                                    task_var_indices, \n",
    "                                                    task_var_ids, \n",
    "                                                    var_names,\n",
    "                                                    t_var_indices)\n",
    "\n",
    "##\n",
    "trace_num_boxes_nh, pp_num_boxes_nh = get_num_boxes_inference_nh(num_boxes, task_var_ids,  t_var_indices)"
   ]
  },
  {
   "cell_type": "markdown",
   "id": "recreational-plaintiff",
   "metadata": {},
   "source": [
    "# Visualizations"
   ]
  },
  {
   "cell_type": "code",
   "execution_count": 18,
   "id": "hollow-driving",
   "metadata": {},
   "outputs": [
    {
     "name": "stderr",
     "output_type": "stream",
     "text": [
      "arviz.data.io_pymc3 - WARNING - posterior predictive variable interactive's shape not compatible with number of chains and draws. This can mean that some draws or even whole chains are not represented.\n",
      "arviz.data.io_pymc3 - WARNING - posterior predictive variable static's shape not compatible with number of chains and draws. This can mean that some draws or even whole chains are not represented.\n",
      "arviz.data.io_pymc3 - WARNING - posterior predictive variable interactive's shape not compatible with number of chains and draws. This can mean that some draws or even whole chains are not represented.\n",
      "arviz.data.io_pymc3 - WARNING - posterior predictive variable static's shape not compatible with number of chains and draws. This can mean that some draws or even whole chains are not represented.\n",
      "arviz.data.io_pymc3 - WARNING - posterior predictive variable interactive's shape not compatible with number of chains and draws. This can mean that some draws or even whole chains are not represented.\n",
      "arviz.data.io_pymc3 - WARNING - posterior predictive variable static's shape not compatible with number of chains and draws. This can mean that some draws or even whole chains are not represented.\n",
      "arviz.data.io_pymc3 - WARNING - posterior predictive variable interactive's shape not compatible with number of chains and draws. This can mean that some draws or even whole chains are not represented.\n",
      "arviz.data.io_pymc3 - WARNING - posterior predictive variable static's shape not compatible with number of chains and draws. This can mean that some draws or even whole chains are not represented.\n",
      "arviz.data.io_pymc3 - WARNING - posterior predictive variable interactive's shape not compatible with number of chains and draws. This can mean that some draws or even whole chains are not represented.\n",
      "arviz.data.io_pymc3 - WARNING - posterior predictive variable static's shape not compatible with number of chains and draws. This can mean that some draws or even whole chains are not represented.\n",
      "arviz.data.io_pymc3 - WARNING - posterior predictive variable interactive's shape not compatible with number of chains and draws. This can mean that some draws or even whole chains are not represented.\n",
      "arviz.data.io_pymc3 - WARNING - posterior predictive variable static's shape not compatible with number of chains and draws. This can mean that some draws or even whole chains are not represented.\n",
      "arviz.data.io_pymc3 - WARNING - posterior predictive variable interactive's shape not compatible with number of chains and draws. This can mean that some draws or even whole chains are not represented.\n",
      "arviz.data.io_pymc3 - WARNING - posterior predictive variable static's shape not compatible with number of chains and draws. This can mean that some draws or even whole chains are not represented.\n",
      "arviz.data.io_pymc3 - WARNING - posterior predictive variable interactive's shape not compatible with number of chains and draws. This can mean that some draws or even whole chains are not represented.\n",
      "arviz.data.io_pymc3 - WARNING - posterior predictive variable static's shape not compatible with number of chains and draws. This can mean that some draws or even whole chains are not represented.\n",
      "arviz.data.io_pymc3 - WARNING - posterior predictive variable interactive's shape not compatible with number of chains and draws. This can mean that some draws or even whole chains are not represented.\n",
      "arviz.data.io_pymc3 - WARNING - posterior predictive variable static's shape not compatible with number of chains and draws. This can mean that some draws or even whole chains are not represented.\n",
      "arviz.data.io_pymc3 - WARNING - posterior predictive variable num_box's shape not compatible with number of chains and draws. This can mean that some draws or even whole chains are not represented.\n",
      "arviz.data.io_pymc3 - WARNING - posterior predictive variable len_box's shape not compatible with number of chains and draws. This can mean that some draws or even whole chains are not represented.\n",
      "arviz.data.io_pymc3 - WARNING - posterior predictive variable interactive's shape not compatible with number of chains and draws. This can mean that some draws or even whole chains are not represented.\n",
      "arviz.data.io_pymc3 - WARNING - posterior predictive variable static's shape not compatible with number of chains and draws. This can mean that some draws or even whole chains are not represented.\n",
      "arviz.data.io_pymc3 - WARNING - posterior predictive variable interactive's shape not compatible with number of chains and draws. This can mean that some draws or even whole chains are not represented.\n",
      "arviz.data.io_pymc3 - WARNING - posterior predictive variable static's shape not compatible with number of chains and draws. This can mean that some draws or even whole chains are not represented.\n",
      "arviz.data.io_pymc3 - WARNING - posterior predictive variable interactive's shape not compatible with number of chains and draws. This can mean that some draws or even whole chains are not represented.\n",
      "arviz.data.io_pymc3 - WARNING - posterior predictive variable static's shape not compatible with number of chains and draws. This can mean that some draws or even whole chains are not represented.\n",
      "arviz.data.io_pymc3 - WARNING - posterior predictive variable interactive's shape not compatible with number of chains and draws. This can mean that some draws or even whole chains are not represented.\n",
      "arviz.data.io_pymc3 - WARNING - posterior predictive variable static's shape not compatible with number of chains and draws. This can mean that some draws or even whole chains are not represented.\n",
      "arviz.data.io_pymc3 - WARNING - posterior predictive variable interactive's shape not compatible with number of chains and draws. This can mean that some draws or even whole chains are not represented.\n",
      "arviz.data.io_pymc3 - WARNING - posterior predictive variable static's shape not compatible with number of chains and draws. This can mean that some draws or even whole chains are not represented.\n",
      "arviz.data.io_pymc3 - WARNING - posterior predictive variable interactive's shape not compatible with number of chains and draws. This can mean that some draws or even whole chains are not represented.\n",
      "arviz.data.io_pymc3 - WARNING - posterior predictive variable static's shape not compatible with number of chains and draws. This can mean that some draws or even whole chains are not represented.\n",
      "arviz.data.io_pymc3 - WARNING - posterior predictive variable interactive's shape not compatible with number of chains and draws. This can mean that some draws or even whole chains are not represented.\n",
      "arviz.data.io_pymc3 - WARNING - posterior predictive variable static's shape not compatible with number of chains and draws. This can mean that some draws or even whole chains are not represented.\n",
      "arviz.data.io_pymc3 - WARNING - posterior predictive variable interactive's shape not compatible with number of chains and draws. This can mean that some draws or even whole chains are not represented.\n",
      "arviz.data.io_pymc3 - WARNING - posterior predictive variable static's shape not compatible with number of chains and draws. This can mean that some draws or even whole chains are not represented.\n",
      "arviz.data.io_pymc3 - WARNING - posterior predictive variable interactive's shape not compatible with number of chains and draws. This can mean that some draws or even whole chains are not represented.\n",
      "arviz.data.io_pymc3 - WARNING - posterior predictive variable static's shape not compatible with number of chains and draws. This can mean that some draws or even whole chains are not represented.\n",
      "arviz.data.io_pymc3 - WARNING - posterior predictive variable num_box's shape not compatible with number of chains and draws. This can mean that some draws or even whole chains are not represented.\n",
      "arviz.data.io_pymc3 - WARNING - posterior predictive variable len_box's shape not compatible with number of chains and draws. This can mean that some draws or even whole chains are not represented.\n"
     ]
    }
   ],
   "source": [
    "# means of traces of hierarchical models\n",
    "traces_dict = {}#{<trace_id>:(<trace>,<posterior_predictive_samples>,<variable>)}\n",
    "traces_dict['acc_rq1'] = (trace_acc_rq1,pp_acc_rq1,\"difference of thetas\")\n",
    "traces_dict['acc_rq2'] = (trace_acc_rq2,pp_acc_rq2,\"difference of thetas\")\n",
    "traces_dict['acc_rq3'] = (trace_acc_rq3,pp_acc_rq3,\"difference of thetas\")\n",
    "traces_dict['rt_rq1'] = (trace_rt_rq1,pp_rt_rq1,\"effect size\")\n",
    "traces_dict['rt_rq2'] = (trace_rt_rq2,pp_rt_rq2,\"effect size\")\n",
    "traces_dict['rt_rq3'] = (trace_rt_rq3,pp_rt_rq3,\"effect size\")\n",
    "traces_dict['conf_rq1'] = (trace_conf_rq1,pp_conf_rq1,\"difference of means\")\n",
    "traces_dict['conf_rq2'] = (trace_conf_rq2,pp_conf_rq2,\"difference of means\")\n",
    "traces_dict['conf_rq3'] = (trace_conf_rq3,pp_conf_rq3,\"difference of means\")\n",
    "traces_dict['num_boxes'] = (trace_num_boxes_h,pp_num_boxes_h,\"mu\")\n",
    "traces_dict['len_boxes'] = (trace_len_boxes_h,pp_len_boxes_h,\"mu\")\n",
    "# dict of means of traces\n",
    "means_h = get_means_from_traces(traces_dict)\n",
    "\n",
    "\n",
    "# means of traces of non-hierarchical models\n",
    "traces_dict['num_boxes'] = (trace_num_boxes_nh,pp_num_boxes_nh,\"mu\")\n",
    "traces_dict['len_boxes'] = (trace_len_boxes_nh,pp_len_boxes_nh,\"mu\")\n",
    "means_nh = get_means_from_traces(traces_dict)"
   ]
  },
  {
   "cell_type": "markdown",
   "id": "capital-panic",
   "metadata": {},
   "source": [
    "## Hierarcical Interaction"
   ]
  },
  {
   "cell_type": "code",
   "execution_count": 31,
   "id": "extraordinary-national",
   "metadata": {},
   "outputs": [],
   "source": [
    "import pandas as pd\n",
    "def get_data_interaction_scatter_plot(means_from_traces):\n",
    "    # prepare data\n",
    "    rq = [\"RQ1\"]*3 + [\"RQ2\"]*3 + [\"RQ3\"]*3 + [\"RQ1\"]*3 + [\"RQ2\"]*3 + [\"RQ3\"]*6 + [\"RQ1\"]*8 + [\"RQ2\"]*4 + [\"RQ3\"]*4\n",
    "    pp_data = {}\n",
    "    pp_data = {'num_boxes':means_from_traces['num_boxes'], \n",
    "               'len_boxes':means_from_traces['len_boxes'],\n",
    "              'Research Question':rq}\n",
    "    return pd.DataFrame(pp_data)"
   ]
  },
  {
   "cell_type": "code",
   "execution_count": 32,
   "id": "excessive-tolerance",
   "metadata": {},
   "outputs": [
    {
     "data": {
      "image/png": "[encoded data removed]",
      "text/plain": [
       "<Figure size 432x288 with 1 Axes>"
      ]
     },
     "metadata": {
      "needs_background": "light"
     },
     "output_type": "display_data"
    }
   ],
   "source": [
    "df_num_len_box = get_data_interaction_scatter_plot(means_h)\n",
    "scatter_plot_of_num_len_boxes(df_num_len_box)"
   ]
  },
  {
   "cell_type": "markdown",
   "id": "minimal-launch",
   "metadata": {},
   "source": [
    "## Non-hierarchical Interaction"
   ]
  },
  {
   "cell_type": "code",
   "execution_count": 33,
   "id": "broken-edinburgh",
   "metadata": {},
   "outputs": [
    {
     "data": {
      "image/png": "[encoded data removed]",
      "text/plain": [
       "<Figure size 432x288 with 1 Axes>"
      ]
     },
     "metadata": {
      "needs_background": "light"
     },
     "output_type": "display_data"
    }
   ],
   "source": [
    "df_num_len_box = get_data_interaction_scatter_plot(means_nh)\n",
    "scatter_plot_of_num_len_boxes(df_num_len_box)"
   ]
  },
  {
   "cell_type": "markdown",
   "id": "treated-smell",
   "metadata": {},
   "source": [
    "## Hierarchical Interaction"
   ]
  },
  {
   "cell_type": "code",
   "execution_count": 34,
   "id": "resident-slope",
   "metadata": {},
   "outputs": [],
   "source": [
    "def get_data_response_interaction_pair_plot(means_from_traces):\n",
    "    # mean of posteriors\n",
    "    mean_acc_rq1 = means_from_traces['acc_rq1']\n",
    "    mean_acc_rq2 = means_from_traces['acc_rq2']\n",
    "    mean_acc_rq3 = means_from_traces['acc_rq3']\n",
    "    mean_rt_rq1  = means_from_traces['rt_rq1']\n",
    "    mean_rt_rq2  = means_from_traces['rt_rq2']\n",
    "    mean_rt_rq3  = means_from_traces['rt_rq3']\n",
    "    mean_conf_rq1 = means_from_traces['conf_rq1']\n",
    "    mean_conf_rq2 = means_from_traces['conf_rq2']\n",
    "    mean_conf_rq3 = means_from_traces['conf_rq3']\n",
    "    \n",
    "    mean_acc = [mean_acc_rq1[0],mean_acc_rq2[0],mean_acc_rq2[1],mean_acc_rq2[2],mean_acc_rq3[0],\n",
    "               mean_acc_rq1[1],mean_acc_rq2[3],mean_acc_rq2[4],mean_acc_rq2[5],mean_acc_rq3[1],mean_acc_rq3[2],\n",
    "               mean_acc_rq1[2], mean_acc_rq1[3],mean_acc_rq2[6],mean_acc_rq2[7],mean_acc_rq2[8],mean_acc_rq2[9],mean_acc_rq3[3],mean_acc_rq3[4]]\n",
    "    mean_conf = [mean_conf_rq1[0],mean_conf_rq2[0],mean_conf_rq2[1],mean_conf_rq2[2],mean_conf_rq3[0],\n",
    "               mean_conf_rq1[1],mean_conf_rq2[3],mean_conf_rq2[4],mean_conf_rq2[5],mean_conf_rq3[1],mean_conf_rq3[2],\n",
    "               mean_conf_rq1[2], mean_conf_rq1[3],mean_conf_rq2[6],mean_conf_rq2[7],mean_conf_rq2[8],mean_conf_rq2[9],mean_conf_rq3[3],mean_conf_rq3[4]]\n",
    "    mean_rt = [mean_rt_rq1[0],mean_rt_rq2[0],mean_rt_rq2[1],mean_rt_rq2[2],mean_rt_rq3[0],\n",
    "               mean_rt_rq1[1],mean_rt_rq2[3],mean_rt_rq2[4],mean_rt_rq2[5],mean_rt_rq3[1],mean_rt_rq3[2],\n",
    "               mean_rt_rq1[2], mean_rt_rq1[3],mean_rt_rq2[6],mean_rt_rq2[7],mean_rt_rq2[8],mean_rt_rq2[9],mean_rt_rq3[3],mean_rt_rq3[4]]\n",
    "    #prepare data\n",
    "    indices = [0,0,0,1,2,3,4,4,4,5,5,5,6,7,8,9,9,9,10,10,10,11,11,11,11,12,12,12,12,13,14,15,16,17,17,18,18]\n",
    "    rq = [\"RQ1\"]*3 + [\"RQ2\"]*3 + [\"RQ3\"]*3 + [\"RQ1\"]*3 + [\"RQ2\"]*3 + [\"RQ3\"]*6 + [\"RQ1\"]*8 + [\"RQ2\"]*4 + [\"RQ3\"]*4\n",
    "    pp_data = {}\n",
    "    pp_data = {'num_boxes':means_from_traces['num_boxes'],\n",
    "               'len_boxes':means_from_traces['len_boxes'],\n",
    "               'accuracy': [mean_acc[i] for i in indices], \n",
    "               'response_time': [mean_rt[i] for i in indices],\n",
    "               'confidence':[mean_conf[i] for i in indices],\n",
    "                \"Research Question\":rq}\n",
    "\n",
    "    return pd.DataFrame(pp_data), pp_data"
   ]
  },
  {
   "cell_type": "code",
   "execution_count": 38,
   "id": "designing-threat",
   "metadata": {},
   "outputs": [
    {
     "data": {
      "image/png": "[encoded data removed]",
      "text/plain": [
       "<Figure size 641.5x360 with 6 Axes>"
      ]
     },
     "metadata": {
      "needs_background": "light"
     },
     "output_type": "display_data"
    }
   ],
   "source": [
    "df_means_num, pp_data_num = get_data_response_interaction_pair_plot(means_h)\n",
    "pair_plot_response_interaction(df_means_num, pp_data_num)"
   ]
  },
  {
   "cell_type": "markdown",
   "id": "aerial-double",
   "metadata": {},
   "source": [
    "## Non-hierarchical Interaction"
   ]
  },
  {
   "cell_type": "code",
   "execution_count": 39,
   "id": "executive-millennium",
   "metadata": {},
   "outputs": [
    {
     "data": {
      "image/png": "[encoded data removed]",
      "text/plain": [
       "<Figure size 641.5x360 with 6 Axes>"
      ]
     },
     "metadata": {
      "needs_background": "light"
     },
     "output_type": "display_data"
    }
   ],
   "source": [
    "df_means_num, pp_data_num = get_data_response_interaction_pair_plot(means_nh)\n",
    "pair_plot_response_interaction(df_means_num, pp_data_num)"
   ]
  },
  {
   "cell_type": "code",
   "execution_count": null,
   "id": "desirable-quantity",
   "metadata": {},
   "outputs": [],
   "source": []
  }
 ],
 "metadata": {
  "kernelspec": {
   "display_name": "Python 3",
   "language": "python",
   "name": "python3"
  },
  "language_info": {
   "codemirror_mode": {
    "name": "ipython",
    "version": 3
   },
   "file_extension": ".py",
   "mimetype": "text/x-python",
   "name": "python",
   "nbconvert_exporter": "python",
   "pygments_lexer": "ipython3",
   "version": "3.7.9"
  }
 },
 "nbformat": 4,
 "nbformat_minor": 5
}
